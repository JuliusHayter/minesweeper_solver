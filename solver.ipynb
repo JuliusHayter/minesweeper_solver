{
 "cells": [
  {
   "cell_type": "code",
   "execution_count": 1,
   "metadata": {},
   "outputs": [],
   "source": [
    "import selenium\n",
    "import time\n",
    "from selenium import webdriver\n",
    "from selenium.webdriver.common.by import By\n",
    "import random \n",
    "from selenium.webdriver.common.action_chains import ActionChains"
   ]
  },
  {
   "cell_type": "code",
   "execution_count": 2,
   "metadata": {},
   "outputs": [],
   "source": [
    "url = \"https://xn--dmineur-bya.eu/\""
   ]
  },
  {
   "cell_type": "code",
   "execution_count": 3,
   "metadata": {},
   "outputs": [],
   "source": [
    "driver = webdriver.Chrome()\n",
    "driver.get(url)\n",
    "\n",
    "\n",
    "time.sleep(10)\n",
    "\n",
    "driver.find_element(By.XPATH, \"/html/body/div[1]/div/div/div/div[2]/div/button[2]\").click()"
   ]
  },
  {
   "cell_type": "code",
   "execution_count": 6,
   "metadata": {},
   "outputs": [],
   "source": [
    "dico = {\n",
    "    \"data:image/png;base64,iVBORw0KGgoAAAANSUhEUgAAABAAAAAQAgMAAABinRfyAAAACVBMVEW9vb0AAP97e3u7pKrVAAAAJUlEQVQI12NYBQQMDQxAACUCgAQjiGAFEaIQLiYhGgojEHqBGAB4Gw2cMF3q+AAAAABJRU5ErkJggg==\": 1,\n",
    "    \"data:image/png;base64,iVBORw0KGgoAAAANSUhEUgAAABAAAAAQAgMAAABinRfyAAAACVBMVEW9vb0AewB7e3vro336AAAANUlEQVQI12NYBQQMDQxAACFCQxkYGkNDHRgaA1gdgGJgIhQowRoCknUAygIZYCVgAqwNQQAA1rsQB7h1rwIAAAAASUVORK5CYII=\": 2,\n",
    "    \"data:image/png;base64,iVBORw0KGgoAAAANSUhEUgAAABAAAAAQAgMAAABinRfyAAAACVBMVEW9vb3/AAB7e3uBZQfoAAAAKUlEQVQI12NYBQQMDQxAACYaQ0PBhAOQywojWIFiIAIhBlICJiDaEAQAtlYPHU2zahQAAAAASUVORK5CYII=\": 3,\n",
    "    \"data:image/png;base64,iVBORw0KGgoAAAANSUhEUgAAABAAAAAQAgMAAABinRfyAAAACVBMVEW9vb0AAHt7e3vZn4u5AAAAJklEQVQI12NYBQQMDQxAACFERWFECIxoDA11ABNAJUAuBsGARAAAgHoNeXfAhZYAAAAASUVORK5CYII=\": 4,\n",
    "    \"data:image/png;base64,iVBORw0KGgoAAAANSUhEUgAAABAAAAAQAgMAAABinRfyAAAACVBMVEW9vb17AAB7e3sERFEmAAAAKUlEQVQI12NYBQQMDQxAACYaQ0MdoEQAiBsAEYNIAJWwQgi4Oog2BAEA7gEQV+EiCoQAAAAASUVORK5CYII=\":5,\n",
    "    \"data:image/png;base64,iVBORw0KGgoAAAANSUhEUgAAABAAAAAQAgMAAABinRfyAAAACVBMVEW9vb0Ae3t7e3tXnVpnAAAAKklEQVQI12NYBQQMDQxAACFCQxkYGsFEAAOMgIo5ALmsEALMBSmGaEMQAOO9EHd34ZsRAAAAAElFTkSuQmCC\":6,\n",
    "    \"data:image/png;base64,iVBORw0KGgoAAAANSUhEUgAAABAAAAAQAQMAAAAlPW0iAAAABlBMVEW9vb17e3tXxGy+AAAAEElEQVQI12P4/5+hgYF4BAAJYgl/JfpRmAAAAABJRU5ErkJggg==\": \"empty\",\n",
    "    \"data:image/png;base64,iVBORw0KGgoAAAANSUhEUgAAABAAAAAQAgMAAABinRfyAAAACVBMVEW9vb3///97e3uVBMaVAAAAHklEQVQI12MIDQ0NARFBDAEMDFzkEl6rVq1i0AISAIlSC03msuDYAAAAAElFTkSuQmCC\": \"hidden\",\n",
    "    \"data:image/png;base64,iVBORw0KGgoAAAANSUhEUgAAABAAAAAQBAMAAADt3eJSAAAAD1BMVEW9vb3///97e3sAAAD/AABQHuKJAAAAOklEQVQI12MQhAABGIOJQZABDJRADBYHCIPFBcpwcUGIIKsB6zJAZxgbQxjGQIDEQFghoAQBDExQBgCHngoRLPdU8QAAAABJRU5ErkJggg==\": \"flag\"\n",
    "}"
   ]
  },
  {
   "cell_type": "code",
   "execution_count": 7,
   "metadata": {},
   "outputs": [],
   "source": [
    "taille_grille = 8"
   ]
  },
  {
   "cell_type": "code",
   "execution_count": 8,
   "metadata": {},
   "outputs": [],
   "source": [
    "def near(ligne,colonne):\n",
    "    liste = {}\n",
    "    for i in range(3):\n",
    "        for j in range(3):\n",
    "            if (ligne-1+i>=0 and ligne-1+i<=taille_grille) and (colonne-1+j>=0 and colonne-1+j<=taille_grille ):\n",
    "                #liste.append(tableau[ligne-1+i][colonne-1+j])\n",
    "                liste[(ligne-1+i,colonne-1+j)] = dico[tableau[ligne-1+i][colonne-1+j]]\n",
    "\n",
    "    return liste"
   ]
  },
  {
   "cell_type": "code",
   "execution_count": 9,
   "metadata": {},
   "outputs": [],
   "source": [
    "def flag(dic):\n",
    "    return list(dic.values()).count('flag')\n",
    "\n",
    "def hidden(dic):\n",
    "    return list(dic.values()).count('hidden')\n",
    "\n",
    "def empty(dic):\n",
    "    return list(dic.values()).count('empty')\n",
    "\n",
    "def total(dic):\n",
    "    return sum(i for i in dic.values() if type(i)==int)"
   ]
  },
  {
   "cell_type": "code",
   "execution_count": 10,
   "metadata": {},
   "outputs": [],
   "source": [
    "def click(couple):\n",
    "    driver.find_element(By.XPATH, f\"/html/body/div[10]/div/img[{couple[0]*(taille_grille+1)+ couple[1]+1}]\").click()"
   ]
  },
  {
   "cell_type": "code",
   "execution_count": 11,
   "metadata": {},
   "outputs": [],
   "source": [
    "def right_click(couple):\n",
    "    actionChains = ActionChains(driver)\n",
    "\n",
    "    actionChains.context_click(driver.find_element(By.XPATH, f\"/html/body/div[10]/div/img[{couple[0]*(taille_grille+1)+ couple[1]+1}]\")).perform()"
   ]
  },
  {
   "cell_type": "code",
   "execution_count": 12,
   "metadata": {},
   "outputs": [],
   "source": [
    "def lost():\n",
    "    if driver.find_element(By.XPATH, \"/html/body/div[10]/img[19]\").get_attribute('src') == \"data:image/png;base64,iVBORw0KGgoAAAANSUhEUgAAABoAAAAaBAMAAABbZFH9AAAAD1BMVEW9vb17e3v//wD///8AAABXk1meAAAAaUlEQVQY043PwQnAMAgFUAMZIJINxAECXSCI+89UE2wVmkM/Xh6R4AdMadCvSMkaCH3Ak3JUVQ1VIdJXQpbpqrTCLmEmm+kiWxVXtYc9rp1/YlVX/OniteeKW753Rofod+xeMAINs0rWDW08IHwPjv9jAAAAAElFTkSuQmCC\":\n",
    "        return True\n",
    "    return False"
   ]
  },
  {
   "cell_type": "code",
   "execution_count": 13,
   "metadata": {},
   "outputs": [],
   "source": [
    "def win():\n",
    "    if driver.find_element(By.XPATH, \"/html/body/div[10]/img[19]\").get_attribute('src') == \"data:image/png;base64,iVBORw0KGgoAAAANSUhEUgAAABoAAAAaBAMAAABbZFH9AAAAElBMVEW9vb17e3v//wD///8AAAB7ewCe3E/QAAAAcElEQVQY023PQQqAMAxE0RR6AIs3GOJe8AIljPe/ktVGU7CfbN4uI2VokfWI0qi9yLrLW5oqk6FsAD8ZWtWVcacuw1N1KVuuDNLaaZfqLXXZRugJdqGnE4nB0K6+UhKu+OX/Z2yIfdPtqUSylFFp1AX4OyKQvMXNiwAAAABJRU5ErkJggg==\":\n",
    "        return True\n",
    "    return False"
   ]
  },
  {
   "cell_type": "markdown",
   "metadata": {},
   "source": [
    "# opt"
   ]
  },
  {
   "cell_type": "code",
   "execution_count": 14,
   "metadata": {},
   "outputs": [],
   "source": [
    "click((random.randrange(0,taille_grille+1),(random.randrange(0,taille_grille+1))))"
   ]
  },
  {
   "cell_type": "code",
   "execution_count": 15,
   "metadata": {},
   "outputs": [],
   "source": [
    "tableau = [[]for i in range(taille_grille+1)]\n",
    "\n",
    "for i in range(taille_grille+1):\n",
    "    for j in range(taille_grille+1):\n",
    "        element = driver.find_element(By.XPATH, f\"/html/body/div[10]/div/img[{(taille_grille+1)*i+j+1}]\")\n",
    "        tableau[i].append(element.get_attribute('src'))"
   ]
  },
  {
   "cell_type": "code",
   "execution_count": 16,
   "metadata": {},
   "outputs": [],
   "source": [
    "#time.sleep(2)\n",
    "a=0\n",
    "while win()==False:\n",
    "    a+=1\n",
    "    for j in range(taille_grille+1):\n",
    "        for i in range(taille_grille+1):\n",
    "            \n",
    "            if type(dico[tableau[j][i]]) == int:\n",
    "                if dico[tableau[j][i]]-flag(near(j,i)) == hidden(near(j,i)):\n",
    "                    for k in near(j,i):\n",
    "                        if near(j,i)[k] == 'hidden':\n",
    "                            right_click(k)\n",
    "\n",
    "                            tableau[k[0]][k[1]] = \"data:image/png;base64,iVBORw0KGgoAAAANSUhEUgAAABAAAAAQBAMAAADt3eJSAAAAD1BMVEW9vb3///97e3sAAAD/AABQHuKJAAAAOklEQVQI12MQhAABGIOJQZABDJRADBYHCIPFBcpwcUGIIKsB6zJAZxgbQxjGQIDEQFghoAQBDExQBgCHngoRLPdU8QAAAABJRU5ErkJggg==\"\n",
    "\n",
    "                if dico[tableau[j][i]]-flag(near(j,i)) == 0:\n",
    "                    for k in near(j,i):\n",
    "                        if near(j,i)[k] == 'hidden':\n",
    "                            click(k)\n",
    "\n",
    "\n",
    "    tableau = [[]for i in range(taille_grille+1)]\n",
    "    for z in range(taille_grille+1):\n",
    "        for l in range(taille_grille+1):\n",
    "            element = driver.find_element(By.XPATH, f\"/html/body/div[10]/div/img[{(taille_grille+1)*z+l+1}]\")\n",
    "            tableau[z].append(element.get_attribute('src')) "
   ]
  }
 ],
 "metadata": {
  "kernelspec": {
   "display_name": "Python 3.11.5 64-bit",
   "language": "python",
   "name": "python3"
  },
  "language_info": {
   "codemirror_mode": {
    "name": "ipython",
    "version": 3
   },
   "file_extension": ".py",
   "mimetype": "text/x-python",
   "name": "python",
   "nbconvert_exporter": "python",
   "pygments_lexer": "ipython3",
   "version": "3.11.5"
  },
  "orig_nbformat": 4,
  "vscode": {
   "interpreter": {
    "hash": "b0fa6594d8f4cbf19f97940f81e996739fb7646882a419484c72d19e05852a7e"
   }
  }
 },
 "nbformat": 4,
 "nbformat_minor": 2
}
